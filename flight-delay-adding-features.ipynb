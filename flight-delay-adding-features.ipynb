{
 "cells": [
  {
   "cell_type": "code",
   "execution_count": 2,
   "metadata": {},
   "outputs": [],
   "source": [
    "import pandas as pd"
   ]
  },
  {
   "cell_type": "code",
   "execution_count": 8,
   "metadata": {},
   "outputs": [],
   "source": [
    "from neefasa_proj3 import *\n",
    "import json\n",
    "import requests\n",
    "import datetime as dt\n",
    "\n",
    "import os\n",
    "from dotenv import load_dotenv"
   ]
  },
  {
   "cell_type": "markdown",
   "metadata": {},
   "source": [
    "# Load CSVs\n",
    "The flight information that I used was from bts.gov"
   ]
  },
  {
   "cell_type": "markdown",
   "metadata": {},
   "source": [
    "## Load Flight data\n",
    "I focused on flight from O'hare during Feb 2019"
   ]
  },
  {
   "cell_type": "code",
   "execution_count": 16,
   "metadata": {},
   "outputs": [],
   "source": [
    "flight_data = pd.read_csv('438043864_T_ONTIME_REPORTING.csv')"
   ]
  },
  {
   "cell_type": "markdown",
   "metadata": {},
   "source": [
    "## Other tables that  will be uploaded to AWS"
   ]
  },
  {
   "cell_type": "code",
   "execution_count": 17,
   "metadata": {},
   "outputs": [],
   "source": [
    "cancel_code = pd.read_csv('L_CANCELLATION.csv_')"
   ]
  },
  {
   "cell_type": "code",
   "execution_count": 4,
   "metadata": {},
   "outputs": [],
   "source": [
    "planes = pd.read_csv('ReleasableAircraft.2019/MASTER.txt')"
   ]
  },
  {
   "cell_type": "code",
   "execution_count": 18,
   "metadata": {},
   "outputs": [],
   "source": [
    "models = pd.read_csv('ReleasableAircraft.2019/ACFTREF.txt')"
   ]
  },
  {
   "cell_type": "code",
   "execution_count": 19,
   "metadata": {},
   "outputs": [],
   "source": [
    "carriers = pd.read_csv('L_UNIQUE_CARRIERS.csv_')"
   ]
  },
  {
   "cell_type": "markdown",
   "metadata": {},
   "source": [
    "# Upload to postgres in AWS"
   ]
  },
  {
   "cell_type": "markdown",
   "metadata": {},
   "source": [
    "## Load params"
   ]
  },
  {
   "cell_type": "code",
   "execution_count": 10,
   "metadata": {},
   "outputs": [
    {
     "data": {
      "text/plain": [
       "True"
      ]
     },
     "execution_count": 10,
     "metadata": {},
     "output_type": "execute_result"
    }
   ],
   "source": [
    "load_dotenv()"
   ]
  },
  {
   "cell_type": "code",
   "execution_count": 11,
   "metadata": {},
   "outputs": [],
   "source": [
    "params = {\n",
    "  'user': 'ubuntu',\n",
    "  'port': 5432,\n",
    "  'dbname': 'proj3'\n",
    "}"
   ]
  },
  {
   "cell_type": "code",
   "execution_count": 12,
   "metadata": {},
   "outputs": [],
   "source": [
    "params['host'] = os.getenv('psql_host')"
   ]
  },
  {
   "cell_type": "code",
   "execution_count": 13,
   "metadata": {},
   "outputs": [],
   "source": [
    "params['password'] = os.getenv('psql_pwd')"
   ]
  },
  {
   "cell_type": "markdown",
   "metadata": {},
   "source": [
    "## Upload tables\n",
    "The function I'm using can be found in my module."
   ]
  },
  {
   "cell_type": "code",
   "execution_count": 21,
   "metadata": {
    "scrolled": false
   },
   "outputs": [],
   "source": [
    "aws_psql(flight_data,'flights', params)"
   ]
  },
  {
   "cell_type": "code",
   "execution_count": 14,
   "metadata": {},
   "outputs": [],
   "source": [
    "aws_psql(planes,'planes', params)"
   ]
  },
  {
   "cell_type": "code",
   "execution_count": 20,
   "metadata": {},
   "outputs": [],
   "source": [
    "aws_psql(models,'models', params)"
   ]
  },
  {
   "cell_type": "code",
   "execution_count": 41,
   "metadata": {},
   "outputs": [],
   "source": [
    "aws_psql(carriers,'carriers', params)"
   ]
  },
  {
   "cell_type": "code",
   "execution_count": 23,
   "metadata": {},
   "outputs": [],
   "source": [
    "aws_psql(cancel_code,'cancelcode', params)"
   ]
  },
  {
   "cell_type": "markdown",
   "metadata": {},
   "source": [
    "# Load 2018 \n",
    "Desiring to do some feature engineering I downloaded the flight info for all of 2018. I used this to find the ontime rate for different features. "
   ]
  },
  {
   "cell_type": "code",
   "execution_count": 29,
   "metadata": {},
   "outputs": [],
   "source": [
    "flight2018 = pd.read_csv('2018flights/Jan2018flights.csv')\n",
    "aws_psql(flight2018,'flights2018',params)"
   ]
  },
  {
   "cell_type": "markdown",
   "metadata": {},
   "source": [
    "The rest of the months I uploaded and copied to psql in a term."
   ]
  },
  {
   "cell_type": "code",
   "execution_count": 30,
   "metadata": {},
   "outputs": [
    {
     "name": "stdout",
     "output_type": "stream",
     "text": [
      "Apr2018flights.csv Feb2018flights.csv Jun2018flights.csv Nov2018flights.csv\r\n",
      "Aug2018flights.csv Jan2018flights.csv Mar2018flights.csv Oct2018flights.csv\r\n",
      "Dec2018flights.csv Jul2018flights.csv May2018flights.csv Sep2018flights.csv\r\n"
     ]
    }
   ],
   "source": [
    "!ls 2018flights"
   ]
  },
  {
   "cell_type": "code",
   "execution_count": 31,
   "metadata": {},
   "outputs": [],
   "source": [
    "months = ['Feb','Mar','Apr','May','Jun','Jul','Aug','Sep','Oct','Nov','Dec']"
   ]
  },
  {
   "cell_type": "code",
   "execution_count": 34,
   "metadata": {},
   "outputs": [],
   "source": [
    "for month in months:\n",
    "    fname = f'2018flights/{month}2018flights.csv'\n",
    "    onemonth = pd.read_csv(fname)\n",
    "    aws_psql(onemonth,'flights2018',params, new_table=False)"
   ]
  },
  {
   "cell_type": "markdown",
   "metadata": {},
   "source": [
    "## Find average delay for flights in 2018"
   ]
  },
  {
   "cell_type": "markdown",
   "metadata": {},
   "source": [
    "### Delay Rate for Airlines"
   ]
  },
  {
   "cell_type": "code",
   "execution_count": 42,
   "metadata": {},
   "outputs": [],
   "source": [
    "q1 = '''select \"OP_UNIQUE_CARRIER\", count(\"DEP_DEL15\") as DEL_FLIGHTS\n",
    "from flights2018\n",
    "where \"DEP_DEL15\" > 0 and \"ORIGIN\" = 'ORD'\n",
    "group by \"OP_UNIQUE_CARRIER\";'''"
   ]
  },
  {
   "cell_type": "code",
   "execution_count": 36,
   "metadata": {},
   "outputs": [],
   "source": [
    "q2 = '''select \"OP_UNIQUE_CARRIER\", count(\"OP_UNIQUE_CARRIER\" ) as TOTAL_FLIGHTS\n",
    "from flights2018\n",
    "where \"ORIGIN\"='ORD'\n",
    "group by \"OP_UNIQUE_CARRIER\";'''"
   ]
  },
  {
   "cell_type": "code",
   "execution_count": 37,
   "metadata": {},
   "outputs": [],
   "source": [
    "q3 = '''select \"OP_UNIQUE_CARRIER\", count(\"CANCELLED\") \n",
    "from flights2018\n",
    "where \"CANCELLED\" =1  and \"ORIGIN\"='ORD'\n",
    "group by \"OP_UNIQUE_CARRIER\";'''"
   ]
  },
  {
   "cell_type": "markdown",
   "metadata": {},
   "source": [
    "Carrier total delays"
   ]
  },
  {
   "cell_type": "code",
   "execution_count": 47,
   "metadata": {},
   "outputs": [],
   "source": [
    "Airline_delays = psql_to_df(q1, params, col=['Airline','Total_Delays'])"
   ]
  },
  {
   "cell_type": "markdown",
   "metadata": {},
   "source": [
    "Carrier total flights"
   ]
  },
  {
   "cell_type": "code",
   "execution_count": 49,
   "metadata": {},
   "outputs": [],
   "source": [
    "Airline_delays = Airline_delays.merge(psql_to_df(q2, params, col=['Airline','Total_Flights']), on='Airline')"
   ]
  },
  {
   "cell_type": "markdown",
   "metadata": {},
   "source": [
    "Carrier total Cancelations"
   ]
  },
  {
   "cell_type": "code",
   "execution_count": 50,
   "metadata": {},
   "outputs": [],
   "source": [
    "Airline_delays = Airline_delays.merge(psql_to_df(q3, params, col=['Airline','Can_Flights']), on='Airline')"
   ]
  },
  {
   "cell_type": "markdown",
   "metadata": {},
   "source": [
    "Calculate Rates"
   ]
  },
  {
   "cell_type": "code",
   "execution_count": 51,
   "metadata": {},
   "outputs": [],
   "source": [
    "Airline_delays['carrier_delay_rate'] = Airline_delays['Total_Delays'] / Airline_delays['Total_Flights']"
   ]
  },
  {
   "cell_type": "code",
   "execution_count": 52,
   "metadata": {},
   "outputs": [],
   "source": [
    "Airline_delays['carrier_cancel_rate'] = Airline_delays['Can_Flights'] / Airline_delays['Total_Flights']"
   ]
  },
  {
   "cell_type": "code",
   "execution_count": 53,
   "metadata": {},
   "outputs": [],
   "source": [
    "Airline_delays['carrier_total_rate'] = Airline_delays['carrier_cancel_rate'] + Airline_delays['carrier_delay_rate']"
   ]
  },
  {
   "cell_type": "code",
   "execution_count": 54,
   "metadata": {},
   "outputs": [],
   "source": [
    "Airline_delays = Airline_delays.set_index('Airline')"
   ]
  },
  {
   "cell_type": "code",
   "execution_count": 55,
   "metadata": {},
   "outputs": [],
   "source": [
    "Airline_delays.to_csv('new_features/carrier_rates.csv')"
   ]
  },
  {
   "cell_type": "markdown",
   "metadata": {},
   "source": [
    "### Flight number delay rate"
   ]
  },
  {
   "cell_type": "code",
   "execution_count": 60,
   "metadata": {},
   "outputs": [],
   "source": [
    "Tot_flnum ='''select \"OP_UNIQUE_CARRIER\", \"OP_CARRIER_FL_NUM\" , count(\"OP_CARRIER_FL_NUM\" ) \n",
    "from flights2018\n",
    "where \"ORIGIN\"='ORD'\n",
    "group by \"OP_UNIQUE_CARRIER\", \"OP_CARRIER_FL_NUM\"\n",
    "order by \"OP_UNIQUE_CARRIER\", \"OP_CARRIER_FL_NUM\";'''"
   ]
  },
  {
   "cell_type": "code",
   "execution_count": 61,
   "metadata": {},
   "outputs": [],
   "source": [
    "Del_flnum = '''select \"OP_UNIQUE_CARRIER\", \"OP_CARRIER_FL_NUM\" , count(\"DEP_DEL15\") \n",
    "from flights2018\n",
    "where \"DEP_DEL15\" =1  and \"ORIGIN\"='ORD'\n",
    "group by \"OP_UNIQUE_CARRIER\", \"OP_CARRIER_FL_NUM\"\n",
    "order by \"OP_UNIQUE_CARRIER\", \"OP_CARRIER_FL_NUM\";'''"
   ]
  },
  {
   "cell_type": "code",
   "execution_count": 72,
   "metadata": {},
   "outputs": [],
   "source": [
    "can_flnum = '''select \"OP_UNIQUE_CARRIER\", \"OP_CARRIER_FL_NUM\" , count(\"CANCELLED\") \n",
    "from flights2018\n",
    "where \"CANCELLED\" =1  and \"ORIGIN\"='ORD'\n",
    "group by \"OP_UNIQUE_CARRIER\", \"OP_CARRIER_FL_NUM\"\n",
    "order by \"OP_UNIQUE_CARRIER\", \"OP_CARRIER_FL_NUM\";'''"
   ]
  },
  {
   "cell_type": "code",
   "execution_count": 77,
   "metadata": {},
   "outputs": [],
   "source": [
    "flnum_tot = psql_to_df(Tot_flnum,col=['carrier','flnum','tot'])\n",
    "flnum_del = psql_to_df(Del_flnum,col=['carrier','flnum','del'])\n",
    "flnum_can = psql_to_df(can_flnum,col=['carrier','flnum','can'])"
   ]
  },
  {
   "cell_type": "code",
   "execution_count": 89,
   "metadata": {},
   "outputs": [],
   "source": [
    "flnum_rates = flnum_tot.merge(flnum_del, on=['carrier','flnum']).merge(flnum_can, on=['carrier','flnum'])"
   ]
  },
  {
   "cell_type": "code",
   "execution_count": 95,
   "metadata": {},
   "outputs": [],
   "source": [
    "flnum_rates['flnum_delay_rate'] = flnum_rates['del'] / flnum_rates['tot']"
   ]
  },
  {
   "cell_type": "code",
   "execution_count": 96,
   "metadata": {},
   "outputs": [],
   "source": [
    "flnum_rates['flnum_cancel_rate'] = flnum_rates['can'] / flnum_rates['tot']"
   ]
  },
  {
   "cell_type": "code",
   "execution_count": 97,
   "metadata": {},
   "outputs": [],
   "source": [
    "flnum_rates['flnum_total_rate'] = flnum_rates['flnum_cancel_rate'] + flnum_rates['flnum_delay_rate']"
   ]
  },
  {
   "cell_type": "code",
   "execution_count": 102,
   "metadata": {},
   "outputs": [],
   "source": [
    "flnum_rates['Car_flnum'] = flnum_rates['carrier'].astype(str) + flnum_rates['flnum'].astype(str)"
   ]
  },
  {
   "cell_type": "code",
   "execution_count": 104,
   "metadata": {},
   "outputs": [],
   "source": [
    "flnum_rates.to_csv('new_features/flnum_rates.csv')"
   ]
  },
  {
   "cell_type": "markdown",
   "metadata": {},
   "source": [
    "### Tail number delay rate"
   ]
  },
  {
   "cell_type": "code",
   "execution_count": 129,
   "metadata": {},
   "outputs": [],
   "source": [
    "tot_tail = '''select \"TAIL_NUM\" , count(*) \n",
    "from flights2018\n",
    "where \"ORIGIN\"='ORD'\n",
    "group by \"TAIL_NUM\" \n",
    "order by \"TAIL_NUM\" ;'''"
   ]
  },
  {
   "cell_type": "code",
   "execution_count": 130,
   "metadata": {},
   "outputs": [],
   "source": [
    "del_tail = '''select \"TAIL_NUM\" , count(\"DEP_DEL15\") \n",
    "from flights2018\n",
    "where \"DEP_DEL15\" =1  and \"ORIGIN\"='ORD'\n",
    "group by \"TAIL_NUM\" \n",
    "order by \"TAIL_NUM\" ;'''"
   ]
  },
  {
   "cell_type": "code",
   "execution_count": 131,
   "metadata": {},
   "outputs": [],
   "source": [
    "can_tail = '''select \"TAIL_NUM\" , count(\"CANCELLED\" ) \n",
    "from flights2018\n",
    "where \"CANCELLED\" =1  and \"ORIGIN\"='ORD'\n",
    "group by \"TAIL_NUM\" \n",
    "order by \"TAIL_NUM\" ;'''"
   ]
  },
  {
   "cell_type": "code",
   "execution_count": 132,
   "metadata": {},
   "outputs": [],
   "source": [
    "tail_tot = psql_to_df(tot_tail,col=['tail_num','tot'])\n",
    "tail_del = psql_to_df(del_tail,col=['tail_num','del'])\n",
    "tail_can = psql_to_df(can_tail,col=['tail_num','can'])"
   ]
  },
  {
   "cell_type": "code",
   "execution_count": 133,
   "metadata": {},
   "outputs": [],
   "source": [
    "tail_num_rates = tail_tot.merge(tail_del, on=['tail_num']).merge(tail_can, on=['tail_num'])"
   ]
  },
  {
   "cell_type": "code",
   "execution_count": 135,
   "metadata": {},
   "outputs": [],
   "source": [
    "tail_num_rates['tailnum_delay_rate'] = tail_num_rates['del'] / tail_num_rates['tot']"
   ]
  },
  {
   "cell_type": "code",
   "execution_count": 136,
   "metadata": {},
   "outputs": [],
   "source": [
    "tail_num_rates['tailnum_cancel_rate'] = tail_num_rates['can'] / tail_num_rates['tot']"
   ]
  },
  {
   "cell_type": "code",
   "execution_count": 137,
   "metadata": {},
   "outputs": [],
   "source": [
    "tail_num_rates['tailnum_total_rate'] = tail_num_rates['tailnum_cancel_rate'] + tail_num_rates['tailnum_delay_rate']"
   ]
  },
  {
   "cell_type": "code",
   "execution_count": 147,
   "metadata": {},
   "outputs": [],
   "source": [
    "tail_num_rates.to_csv('new_features/tailnum_rates.csv')"
   ]
  },
  {
   "cell_type": "code",
   "execution_count": null,
   "metadata": {},
   "outputs": [],
   "source": []
  },
  {
   "cell_type": "markdown",
   "metadata": {},
   "source": [
    "# Weather"
   ]
  },
  {
   "cell_type": "code",
   "execution_count": 56,
   "metadata": {},
   "outputs": [],
   "source": [
    "ORDcoord = '41.9760648,-87.9067206'"
   ]
  },
  {
   "cell_type": "code",
   "execution_count": 57,
   "metadata": {},
   "outputs": [],
   "source": [
    "darkskykey = os.getenv('darkskykey')"
   ]
  },
  {
   "cell_type": "code",
   "execution_count": 58,
   "metadata": {},
   "outputs": [],
   "source": [
    "feb2019 = pd.date_range(start='2/1/2019',end='2/28/2019')"
   ]
  },
  {
   "cell_type": "code",
   "execution_count": 59,
   "metadata": {},
   "outputs": [],
   "source": [
    "febweather = []"
   ]
  },
  {
   "cell_type": "code",
   "execution_count": 60,
   "metadata": {},
   "outputs": [],
   "source": [
    "for date in feb2019:\n",
    "    day = date.strftime('%Y-%m-%d')\n",
    "    time = day+'T00:00:00'\n",
    "    darkskyurl = 'https://api.darksky.net/forecast/'+darkskykey+'/'+ORDcoord+','+time\n",
    "    febweather.append(requests.get(darkskyurl).json())"
   ]
  },
  {
   "cell_type": "markdown",
   "metadata": {},
   "source": [
    "## daily weather"
   ]
  },
  {
   "cell_type": "code",
   "execution_count": 61,
   "metadata": {},
   "outputs": [],
   "source": [
    "dailyfebweather = []\n",
    "for day in febweather:\n",
    "    dailyfebweather.append(day['daily']['data'][0])"
   ]
  },
  {
   "cell_type": "code",
   "execution_count": 62,
   "metadata": {},
   "outputs": [],
   "source": [
    "febW = pd.DataFrame(dailyfebweather)"
   ]
  },
  {
   "cell_type": "code",
   "execution_count": 63,
   "metadata": {},
   "outputs": [],
   "source": [
    "febW = febW.set_index(feb2019)"
   ]
  },
  {
   "cell_type": "code",
   "execution_count": 64,
   "metadata": {},
   "outputs": [],
   "source": [
    "febW.to_csv('new_features/febW.csv')"
   ]
  },
  {
   "cell_type": "markdown",
   "metadata": {},
   "source": [
    "## Hourly weather"
   ]
  },
  {
   "cell_type": "code",
   "execution_count": 65,
   "metadata": {},
   "outputs": [],
   "source": [
    "hourlyfebweather = []\n",
    "for day in febweather:\n",
    "    hourlyfebweather.extend(day['hourly']['data'])"
   ]
  },
  {
   "cell_type": "code",
   "execution_count": 66,
   "metadata": {},
   "outputs": [],
   "source": [
    "febWhourly = pd.DataFrame(hourlyfebweather)"
   ]
  },
  {
   "cell_type": "code",
   "execution_count": 67,
   "metadata": {},
   "outputs": [],
   "source": [
    "febWhourly.to_csv('new_features/febWhourly.csv')"
   ]
  },
  {
   "cell_type": "code",
   "execution_count": null,
   "metadata": {},
   "outputs": [],
   "source": []
  }
 ],
 "metadata": {
  "kernelspec": {
   "display_name": "Python [conda env:metis] *",
   "language": "python",
   "name": "conda-env-metis-py"
  },
  "language_info": {
   "codemirror_mode": {
    "name": "ipython",
    "version": 3
   },
   "file_extension": ".py",
   "mimetype": "text/x-python",
   "name": "python",
   "nbconvert_exporter": "python",
   "pygments_lexer": "ipython3",
   "version": "3.7.4"
  },
  "toc": {
   "base_numbering": 1,
   "nav_menu": {},
   "number_sections": true,
   "sideBar": true,
   "skip_h1_title": false,
   "title_cell": "Table of Contents",
   "title_sidebar": "Contents",
   "toc_cell": false,
   "toc_position": {},
   "toc_section_display": true,
   "toc_window_display": false
  }
 },
 "nbformat": 4,
 "nbformat_minor": 2
}
